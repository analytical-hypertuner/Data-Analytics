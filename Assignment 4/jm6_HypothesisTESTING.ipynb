{
  "nbformat": 4,
  "nbformat_minor": 0,
  "metadata": {
    "kernelspec": {
      "display_name": "Python 3",
      "language": "python",
      "name": "python3"
    },
    "language_info": {
      "codemirror_mode": {
        "name": "ipython",
        "version": 3
      },
      "file_extension": ".py",
      "mimetype": "text/x-python",
      "name": "python",
      "nbconvert_exporter": "python",
      "pygments_lexer": "ipython3",
      "version": "3.6.0"
    },
    "colab": {
      "name": "jm6_HypothesisTESTING (1).ipynb",
      "provenance": [],
      "collapsed_sections": [
        "R80TRn_mqa3K"
      ]
    }
  },
  "cells": [
    {
      "cell_type": "code",
      "metadata": {
        "collapsed": true,
        "id": "TaS5oXpnqa3G"
      },
      "source": [
        "import matplotlib.pyplot as plt\n",
        "import seaborn as sns\n",
        "import numpy as np\n",
        "import pandas as pd\n",
        "from scipy import stats"
      ],
      "execution_count": null,
      "outputs": []
    },
    {
      "cell_type": "markdown",
      "metadata": {
        "id": "u7akh7l8vrKS"
      },
      "source": [
        "# Analyzing the average heights of NBA *Players*"
      ]
    },
    {
      "cell_type": "code",
      "metadata": {
        "id": "GF3Q-fyhqa3N",
        "colab": {
          "base_uri": "https://localhost:8080/",
          "height": 383
        },
        "outputId": "7f01e34f-da5f-4580-863a-c2db01fde16e"
      },
      "source": [
        "df2 = pd.read_csv('players.csv')\n",
        "df2.head()"
      ],
      "execution_count": null,
      "outputs": [
        {
          "output_type": "execute_result",
          "data": {
            "text/html": [
              "\n",
              "  <div id=\"df-79096151-aa33-4092-a15c-6118bfa7b8be\">\n",
              "    <div class=\"colab-df-container\">\n",
              "      <div>\n",
              "<style scoped>\n",
              "    .dataframe tbody tr th:only-of-type {\n",
              "        vertical-align: middle;\n",
              "    }\n",
              "\n",
              "    .dataframe tbody tr th {\n",
              "        vertical-align: top;\n",
              "    }\n",
              "\n",
              "    .dataframe thead th {\n",
              "        text-align: right;\n",
              "    }\n",
              "</style>\n",
              "<table border=\"1\" class=\"dataframe\">\n",
              "  <thead>\n",
              "    <tr style=\"text-align: right;\">\n",
              "      <th></th>\n",
              "      <th>Name</th>\n",
              "      <th>Games Played</th>\n",
              "      <th>MIN</th>\n",
              "      <th>PTS</th>\n",
              "      <th>FGM</th>\n",
              "      <th>FGA</th>\n",
              "      <th>FG%</th>\n",
              "      <th>3PM</th>\n",
              "      <th>3PA</th>\n",
              "      <th>3P%</th>\n",
              "      <th>...</th>\n",
              "      <th>Age</th>\n",
              "      <th>Birth_Place</th>\n",
              "      <th>Birthdate</th>\n",
              "      <th>Collage</th>\n",
              "      <th>Experience</th>\n",
              "      <th>Height</th>\n",
              "      <th>Pos</th>\n",
              "      <th>Team</th>\n",
              "      <th>Weight</th>\n",
              "      <th>BMI</th>\n",
              "    </tr>\n",
              "  </thead>\n",
              "  <tbody>\n",
              "    <tr>\n",
              "      <th>0</th>\n",
              "      <td>AJ Price</td>\n",
              "      <td>26</td>\n",
              "      <td>324</td>\n",
              "      <td>133</td>\n",
              "      <td>51</td>\n",
              "      <td>137</td>\n",
              "      <td>37.2</td>\n",
              "      <td>15</td>\n",
              "      <td>57</td>\n",
              "      <td>26.3</td>\n",
              "      <td>...</td>\n",
              "      <td>29.0</td>\n",
              "      <td>us</td>\n",
              "      <td>October 7, 1986</td>\n",
              "      <td>University of Connecticut</td>\n",
              "      <td>5</td>\n",
              "      <td>185.0</td>\n",
              "      <td>PG</td>\n",
              "      <td>PHO</td>\n",
              "      <td>81.45</td>\n",
              "      <td>23.798393</td>\n",
              "    </tr>\n",
              "    <tr>\n",
              "      <th>1</th>\n",
              "      <td>Aaron Brooks</td>\n",
              "      <td>82</td>\n",
              "      <td>1885</td>\n",
              "      <td>954</td>\n",
              "      <td>344</td>\n",
              "      <td>817</td>\n",
              "      <td>42.1</td>\n",
              "      <td>121</td>\n",
              "      <td>313</td>\n",
              "      <td>38.7</td>\n",
              "      <td>...</td>\n",
              "      <td>30.0</td>\n",
              "      <td>us</td>\n",
              "      <td>January 14, 1985</td>\n",
              "      <td>University of Oregon</td>\n",
              "      <td>6</td>\n",
              "      <td>180.0</td>\n",
              "      <td>PG</td>\n",
              "      <td>CHI</td>\n",
              "      <td>72.45</td>\n",
              "      <td>22.361111</td>\n",
              "    </tr>\n",
              "    <tr>\n",
              "      <th>2</th>\n",
              "      <td>Aaron Gordon</td>\n",
              "      <td>47</td>\n",
              "      <td>797</td>\n",
              "      <td>243</td>\n",
              "      <td>93</td>\n",
              "      <td>208</td>\n",
              "      <td>44.7</td>\n",
              "      <td>13</td>\n",
              "      <td>48</td>\n",
              "      <td>27.1</td>\n",
              "      <td>...</td>\n",
              "      <td>20.0</td>\n",
              "      <td>us</td>\n",
              "      <td>September 16, 1995</td>\n",
              "      <td>University of Arizona</td>\n",
              "      <td>R</td>\n",
              "      <td>202.5</td>\n",
              "      <td>PF</td>\n",
              "      <td>ORL</td>\n",
              "      <td>99.00</td>\n",
              "      <td>24.142661</td>\n",
              "    </tr>\n",
              "    <tr>\n",
              "      <th>3</th>\n",
              "      <td>Adreian Payne</td>\n",
              "      <td>32</td>\n",
              "      <td>740</td>\n",
              "      <td>213</td>\n",
              "      <td>91</td>\n",
              "      <td>220</td>\n",
              "      <td>41.4</td>\n",
              "      <td>1</td>\n",
              "      <td>9</td>\n",
              "      <td>11.1</td>\n",
              "      <td>...</td>\n",
              "      <td>24.0</td>\n",
              "      <td>us</td>\n",
              "      <td>February 19, 1991</td>\n",
              "      <td>Michigan State University</td>\n",
              "      <td>R</td>\n",
              "      <td>205.0</td>\n",
              "      <td>PF</td>\n",
              "      <td>ATL</td>\n",
              "      <td>106.65</td>\n",
              "      <td>25.377751</td>\n",
              "    </tr>\n",
              "    <tr>\n",
              "      <th>4</th>\n",
              "      <td>Al Horford</td>\n",
              "      <td>76</td>\n",
              "      <td>2318</td>\n",
              "      <td>1156</td>\n",
              "      <td>519</td>\n",
              "      <td>965</td>\n",
              "      <td>53.8</td>\n",
              "      <td>11</td>\n",
              "      <td>36</td>\n",
              "      <td>30.6</td>\n",
              "      <td>...</td>\n",
              "      <td>29.0</td>\n",
              "      <td>do</td>\n",
              "      <td>June 3, 1986</td>\n",
              "      <td>University of Florida</td>\n",
              "      <td>7</td>\n",
              "      <td>205.0</td>\n",
              "      <td>C</td>\n",
              "      <td>ATL</td>\n",
              "      <td>110.25</td>\n",
              "      <td>26.234384</td>\n",
              "    </tr>\n",
              "  </tbody>\n",
              "</table>\n",
              "<p>5 rows × 34 columns</p>\n",
              "</div>\n",
              "      <button class=\"colab-df-convert\" onclick=\"convertToInteractive('df-79096151-aa33-4092-a15c-6118bfa7b8be')\"\n",
              "              title=\"Convert this dataframe to an interactive table.\"\n",
              "              style=\"display:none;\">\n",
              "        \n",
              "  <svg xmlns=\"http://www.w3.org/2000/svg\" height=\"24px\"viewBox=\"0 0 24 24\"\n",
              "       width=\"24px\">\n",
              "    <path d=\"M0 0h24v24H0V0z\" fill=\"none\"/>\n",
              "    <path d=\"M18.56 5.44l.94 2.06.94-2.06 2.06-.94-2.06-.94-.94-2.06-.94 2.06-2.06.94zm-11 1L8.5 8.5l.94-2.06 2.06-.94-2.06-.94L8.5 2.5l-.94 2.06-2.06.94zm10 10l.94 2.06.94-2.06 2.06-.94-2.06-.94-.94-2.06-.94 2.06-2.06.94z\"/><path d=\"M17.41 7.96l-1.37-1.37c-.4-.4-.92-.59-1.43-.59-.52 0-1.04.2-1.43.59L10.3 9.45l-7.72 7.72c-.78.78-.78 2.05 0 2.83L4 21.41c.39.39.9.59 1.41.59.51 0 1.02-.2 1.41-.59l7.78-7.78 2.81-2.81c.8-.78.8-2.07 0-2.86zM5.41 20L4 18.59l7.72-7.72 1.47 1.35L5.41 20z\"/>\n",
              "  </svg>\n",
              "      </button>\n",
              "      \n",
              "  <style>\n",
              "    .colab-df-container {\n",
              "      display:flex;\n",
              "      flex-wrap:wrap;\n",
              "      gap: 12px;\n",
              "    }\n",
              "\n",
              "    .colab-df-convert {\n",
              "      background-color: #E8F0FE;\n",
              "      border: none;\n",
              "      border-radius: 50%;\n",
              "      cursor: pointer;\n",
              "      display: none;\n",
              "      fill: #1967D2;\n",
              "      height: 32px;\n",
              "      padding: 0 0 0 0;\n",
              "      width: 32px;\n",
              "    }\n",
              "\n",
              "    .colab-df-convert:hover {\n",
              "      background-color: #E2EBFA;\n",
              "      box-shadow: 0px 1px 2px rgba(60, 64, 67, 0.3), 0px 1px 3px 1px rgba(60, 64, 67, 0.15);\n",
              "      fill: #174EA6;\n",
              "    }\n",
              "\n",
              "    [theme=dark] .colab-df-convert {\n",
              "      background-color: #3B4455;\n",
              "      fill: #D2E3FC;\n",
              "    }\n",
              "\n",
              "    [theme=dark] .colab-df-convert:hover {\n",
              "      background-color: #434B5C;\n",
              "      box-shadow: 0px 1px 3px 1px rgba(0, 0, 0, 0.15);\n",
              "      filter: drop-shadow(0px 1px 2px rgba(0, 0, 0, 0.3));\n",
              "      fill: #FFFFFF;\n",
              "    }\n",
              "  </style>\n",
              "\n",
              "      <script>\n",
              "        const buttonEl =\n",
              "          document.querySelector('#df-79096151-aa33-4092-a15c-6118bfa7b8be button.colab-df-convert');\n",
              "        buttonEl.style.display =\n",
              "          google.colab.kernel.accessAllowed ? 'block' : 'none';\n",
              "\n",
              "        async function convertToInteractive(key) {\n",
              "          const element = document.querySelector('#df-79096151-aa33-4092-a15c-6118bfa7b8be');\n",
              "          const dataTable =\n",
              "            await google.colab.kernel.invokeFunction('convertToInteractive',\n",
              "                                                     [key], {});\n",
              "          if (!dataTable) return;\n",
              "\n",
              "          const docLinkHtml = 'Like what you see? Visit the ' +\n",
              "            '<a target=\"_blank\" href=https://colab.research.google.com/notebooks/data_table.ipynb>data table notebook</a>'\n",
              "            + ' to learn more about interactive tables.';\n",
              "          element.innerHTML = '';\n",
              "          dataTable['output_type'] = 'display_data';\n",
              "          await google.colab.output.renderOutput(dataTable, element);\n",
              "          const docLink = document.createElement('div');\n",
              "          docLink.innerHTML = docLinkHtml;\n",
              "          element.appendChild(docLink);\n",
              "        }\n",
              "      </script>\n",
              "    </div>\n",
              "  </div>\n",
              "  "
            ],
            "text/plain": [
              "            Name  Games Played   MIN   PTS  FGM  FGA   FG%  3PM  3PA   3P%  \\\n",
              "0       AJ Price            26   324   133   51  137  37.2   15   57  26.3   \n",
              "1   Aaron Brooks            82  1885   954  344  817  42.1  121  313  38.7   \n",
              "2   Aaron Gordon            47   797   243   93  208  44.7   13   48  27.1   \n",
              "3  Adreian Payne            32   740   213   91  220  41.4    1    9  11.1   \n",
              "4     Al Horford            76  2318  1156  519  965  53.8   11   36  30.6   \n",
              "\n",
              "   ...   Age  Birth_Place           Birthdate                    Collage  \\\n",
              "0  ...  29.0           us     October 7, 1986  University of Connecticut   \n",
              "1  ...  30.0           us    January 14, 1985       University of Oregon   \n",
              "2  ...  20.0           us  September 16, 1995      University of Arizona   \n",
              "3  ...  24.0           us   February 19, 1991  Michigan State University   \n",
              "4  ...  29.0           do        June 3, 1986      University of Florida   \n",
              "\n",
              "   Experience  Height  Pos  Team  Weight        BMI  \n",
              "0           5   185.0   PG   PHO   81.45  23.798393  \n",
              "1           6   180.0   PG   CHI   72.45  22.361111  \n",
              "2           R   202.5   PF   ORL   99.00  24.142661  \n",
              "3           R   205.0   PF   ATL  106.65  25.377751  \n",
              "4           7   205.0    C   ATL  110.25  26.234384  \n",
              "\n",
              "[5 rows x 34 columns]"
            ]
          },
          "metadata": {},
          "execution_count": 17
        }
      ]
    },
    {
      "cell_type": "code",
      "metadata": {
        "id": "x60k6N2oqa3N",
        "colab": {
          "base_uri": "https://localhost:8080/"
        },
        "outputId": "ae919c8d-0c40-45a5-f5e3-b1a5466ec207"
      },
      "source": [
        "df2.shape"
      ],
      "execution_count": null,
      "outputs": [
        {
          "output_type": "execute_result",
          "data": {
            "text/plain": [
              "(490, 34)"
            ]
          },
          "metadata": {},
          "execution_count": 18
        }
      ]
    },
    {
      "cell_type": "markdown",
      "metadata": {
        "id": "sZxCI-l_qa3O"
      },
      "source": [
        "#### Hypothesis Testing\n",
        "\n",
        "One Sample Significance Test for Mean is extremely similar to that for Proportion. We will go through almost an identical process.\n",
        "\n",
        "The hypotheses are defined as follows:\n",
        "* **Null Hypothesis**: The average height of an NBA player is 200.66 cm.\n",
        "* **Alternate Hypothesis**: The average height of an NBA player is not 200.66 cm.\n",
        "\n",
        "Significance Level, $\\alpha$ is at 0.05. Assuming Null Hypothesis to be true."
      ]
    },
    {
      "cell_type": "code",
      "metadata": {
        "collapsed": true,
        "id": "SDu1DZ7yqa3O"
      },
      "source": [
        "h0_mean = 200.66   #google search"
      ],
      "execution_count": null,
      "outputs": []
    },
    {
      "cell_type": "code",
      "metadata": {
        "id": "_uXtv5Fkqa3O",
        "colab": {
          "base_uri": "https://localhost:8080/"
        },
        "outputId": "9c00d900-450e-4ef2-e4f3-55fbff23444b"
      },
      "source": [
        "h1_mean = df2['Height'].mean()                      #z=(x-mu)/sig/sqrt(n)\n",
        "h1_mean                                              #z=(x-mu)/sigma"
      ],
      "execution_count": null,
      "outputs": [
        {
          "output_type": "execute_result",
          "data": {
            "text/plain": [
              "197.44075829383885"
            ]
          },
          "metadata": {},
          "execution_count": 20
        }
      ]
    },
    {
      "cell_type": "code",
      "metadata": {
        "id": "sM3BbRFAqa3O",
        "colab": {
          "base_uri": "https://localhost:8080/"
        },
        "outputId": "0fb7bf58-ca43-408e-d4a0-e78211de4056"
      },
      "source": [
        "sigma = df2['Height'].std()/np.sqrt(len(df2))\n",
        "sigma"
      ],
      "execution_count": null,
      "outputs": [
        {
          "output_type": "execute_result",
          "data": {
            "text/plain": [
              "0.3948442447237618"
            ]
          },
          "metadata": {},
          "execution_count": 21
        }
      ]
    },
    {
      "cell_type": "code",
      "metadata": {
        "id": "Z4PfYFzwqa3O",
        "colab": {
          "base_uri": "https://localhost:8080/"
        },
        "outputId": "b76408cd-8f5e-4965-96d9-60839802666c"
      },
      "source": [
        "z = (h1_mean - h0_mean)/sigma\n",
        "z"
      ],
      "execution_count": null,
      "outputs": [
        {
          "output_type": "execute_result",
          "data": {
            "text/plain": [
              "-8.15319394718129"
            ]
          },
          "metadata": {},
          "execution_count": 22
        }
      ]
    },
    {
      "cell_type": "code",
      "metadata": {
        "id": "0vr6U-slqa3P",
        "colab": {
          "base_uri": "https://localhost:8080/"
        },
        "outputId": "2a270816-3241-4420-b8f0-9b54fe8fff1e"
      },
      "source": [
        "#p_val = (1 - stats.norm.cdf(abs(z))) #ONE TAIL  I.E LOWER TAIL PART\n",
        "p_val = (1 - stats.norm.cdf(abs(z)))*2   #TWO TAIL            #pval or prob value             pval<alpha\n",
        "p_val"
      ],
      "execution_count": null,
      "outputs": [
        {
          "output_type": "execute_result",
          "data": {
            "text/plain": [
              "4.440892098500626e-16"
            ]
          },
          "metadata": {},
          "execution_count": 23
        }
      ]
    },
    {
      "cell_type": "code",
      "source": [
        "df2.head()"
      ],
      "metadata": {
        "id": "Hs-bzM6SznU8",
        "outputId": "f9774230-f425-4b7d-b077-2c7b517815ba",
        "colab": {
          "base_uri": "https://localhost:8080/",
          "height": 383
        }
      },
      "execution_count": null,
      "outputs": [
        {
          "output_type": "execute_result",
          "data": {
            "text/html": [
              "\n",
              "  <div id=\"df-56b17c06-e831-4572-b5bf-e8a72555781b\">\n",
              "    <div class=\"colab-df-container\">\n",
              "      <div>\n",
              "<style scoped>\n",
              "    .dataframe tbody tr th:only-of-type {\n",
              "        vertical-align: middle;\n",
              "    }\n",
              "\n",
              "    .dataframe tbody tr th {\n",
              "        vertical-align: top;\n",
              "    }\n",
              "\n",
              "    .dataframe thead th {\n",
              "        text-align: right;\n",
              "    }\n",
              "</style>\n",
              "<table border=\"1\" class=\"dataframe\">\n",
              "  <thead>\n",
              "    <tr style=\"text-align: right;\">\n",
              "      <th></th>\n",
              "      <th>Name</th>\n",
              "      <th>Games Played</th>\n",
              "      <th>MIN</th>\n",
              "      <th>PTS</th>\n",
              "      <th>FGM</th>\n",
              "      <th>FGA</th>\n",
              "      <th>FG%</th>\n",
              "      <th>3PM</th>\n",
              "      <th>3PA</th>\n",
              "      <th>3P%</th>\n",
              "      <th>...</th>\n",
              "      <th>Age</th>\n",
              "      <th>Birth_Place</th>\n",
              "      <th>Birthdate</th>\n",
              "      <th>Collage</th>\n",
              "      <th>Experience</th>\n",
              "      <th>Height</th>\n",
              "      <th>Pos</th>\n",
              "      <th>Team</th>\n",
              "      <th>Weight</th>\n",
              "      <th>BMI</th>\n",
              "    </tr>\n",
              "  </thead>\n",
              "  <tbody>\n",
              "    <tr>\n",
              "      <th>0</th>\n",
              "      <td>AJ Price</td>\n",
              "      <td>26</td>\n",
              "      <td>324</td>\n",
              "      <td>133</td>\n",
              "      <td>51</td>\n",
              "      <td>137</td>\n",
              "      <td>37.2</td>\n",
              "      <td>15</td>\n",
              "      <td>57</td>\n",
              "      <td>26.3</td>\n",
              "      <td>...</td>\n",
              "      <td>29.0</td>\n",
              "      <td>us</td>\n",
              "      <td>October 7, 1986</td>\n",
              "      <td>University of Connecticut</td>\n",
              "      <td>5</td>\n",
              "      <td>185.0</td>\n",
              "      <td>PG</td>\n",
              "      <td>PHO</td>\n",
              "      <td>81.45</td>\n",
              "      <td>23.798393</td>\n",
              "    </tr>\n",
              "    <tr>\n",
              "      <th>1</th>\n",
              "      <td>Aaron Brooks</td>\n",
              "      <td>82</td>\n",
              "      <td>1885</td>\n",
              "      <td>954</td>\n",
              "      <td>344</td>\n",
              "      <td>817</td>\n",
              "      <td>42.1</td>\n",
              "      <td>121</td>\n",
              "      <td>313</td>\n",
              "      <td>38.7</td>\n",
              "      <td>...</td>\n",
              "      <td>30.0</td>\n",
              "      <td>us</td>\n",
              "      <td>January 14, 1985</td>\n",
              "      <td>University of Oregon</td>\n",
              "      <td>6</td>\n",
              "      <td>180.0</td>\n",
              "      <td>PG</td>\n",
              "      <td>CHI</td>\n",
              "      <td>72.45</td>\n",
              "      <td>22.361111</td>\n",
              "    </tr>\n",
              "    <tr>\n",
              "      <th>2</th>\n",
              "      <td>Aaron Gordon</td>\n",
              "      <td>47</td>\n",
              "      <td>797</td>\n",
              "      <td>243</td>\n",
              "      <td>93</td>\n",
              "      <td>208</td>\n",
              "      <td>44.7</td>\n",
              "      <td>13</td>\n",
              "      <td>48</td>\n",
              "      <td>27.1</td>\n",
              "      <td>...</td>\n",
              "      <td>20.0</td>\n",
              "      <td>us</td>\n",
              "      <td>September 16, 1995</td>\n",
              "      <td>University of Arizona</td>\n",
              "      <td>R</td>\n",
              "      <td>202.5</td>\n",
              "      <td>PF</td>\n",
              "      <td>ORL</td>\n",
              "      <td>99.00</td>\n",
              "      <td>24.142661</td>\n",
              "    </tr>\n",
              "    <tr>\n",
              "      <th>3</th>\n",
              "      <td>Adreian Payne</td>\n",
              "      <td>32</td>\n",
              "      <td>740</td>\n",
              "      <td>213</td>\n",
              "      <td>91</td>\n",
              "      <td>220</td>\n",
              "      <td>41.4</td>\n",
              "      <td>1</td>\n",
              "      <td>9</td>\n",
              "      <td>11.1</td>\n",
              "      <td>...</td>\n",
              "      <td>24.0</td>\n",
              "      <td>us</td>\n",
              "      <td>February 19, 1991</td>\n",
              "      <td>Michigan State University</td>\n",
              "      <td>R</td>\n",
              "      <td>205.0</td>\n",
              "      <td>PF</td>\n",
              "      <td>ATL</td>\n",
              "      <td>106.65</td>\n",
              "      <td>25.377751</td>\n",
              "    </tr>\n",
              "    <tr>\n",
              "      <th>4</th>\n",
              "      <td>Al Horford</td>\n",
              "      <td>76</td>\n",
              "      <td>2318</td>\n",
              "      <td>1156</td>\n",
              "      <td>519</td>\n",
              "      <td>965</td>\n",
              "      <td>53.8</td>\n",
              "      <td>11</td>\n",
              "      <td>36</td>\n",
              "      <td>30.6</td>\n",
              "      <td>...</td>\n",
              "      <td>29.0</td>\n",
              "      <td>do</td>\n",
              "      <td>June 3, 1986</td>\n",
              "      <td>University of Florida</td>\n",
              "      <td>7</td>\n",
              "      <td>205.0</td>\n",
              "      <td>C</td>\n",
              "      <td>ATL</td>\n",
              "      <td>110.25</td>\n",
              "      <td>26.234384</td>\n",
              "    </tr>\n",
              "  </tbody>\n",
              "</table>\n",
              "<p>5 rows × 34 columns</p>\n",
              "</div>\n",
              "      <button class=\"colab-df-convert\" onclick=\"convertToInteractive('df-56b17c06-e831-4572-b5bf-e8a72555781b')\"\n",
              "              title=\"Convert this dataframe to an interactive table.\"\n",
              "              style=\"display:none;\">\n",
              "        \n",
              "  <svg xmlns=\"http://www.w3.org/2000/svg\" height=\"24px\"viewBox=\"0 0 24 24\"\n",
              "       width=\"24px\">\n",
              "    <path d=\"M0 0h24v24H0V0z\" fill=\"none\"/>\n",
              "    <path d=\"M18.56 5.44l.94 2.06.94-2.06 2.06-.94-2.06-.94-.94-2.06-.94 2.06-2.06.94zm-11 1L8.5 8.5l.94-2.06 2.06-.94-2.06-.94L8.5 2.5l-.94 2.06-2.06.94zm10 10l.94 2.06.94-2.06 2.06-.94-2.06-.94-.94-2.06-.94 2.06-2.06.94z\"/><path d=\"M17.41 7.96l-1.37-1.37c-.4-.4-.92-.59-1.43-.59-.52 0-1.04.2-1.43.59L10.3 9.45l-7.72 7.72c-.78.78-.78 2.05 0 2.83L4 21.41c.39.39.9.59 1.41.59.51 0 1.02-.2 1.41-.59l7.78-7.78 2.81-2.81c.8-.78.8-2.07 0-2.86zM5.41 20L4 18.59l7.72-7.72 1.47 1.35L5.41 20z\"/>\n",
              "  </svg>\n",
              "      </button>\n",
              "      \n",
              "  <style>\n",
              "    .colab-df-container {\n",
              "      display:flex;\n",
              "      flex-wrap:wrap;\n",
              "      gap: 12px;\n",
              "    }\n",
              "\n",
              "    .colab-df-convert {\n",
              "      background-color: #E8F0FE;\n",
              "      border: none;\n",
              "      border-radius: 50%;\n",
              "      cursor: pointer;\n",
              "      display: none;\n",
              "      fill: #1967D2;\n",
              "      height: 32px;\n",
              "      padding: 0 0 0 0;\n",
              "      width: 32px;\n",
              "    }\n",
              "\n",
              "    .colab-df-convert:hover {\n",
              "      background-color: #E2EBFA;\n",
              "      box-shadow: 0px 1px 2px rgba(60, 64, 67, 0.3), 0px 1px 3px 1px rgba(60, 64, 67, 0.15);\n",
              "      fill: #174EA6;\n",
              "    }\n",
              "\n",
              "    [theme=dark] .colab-df-convert {\n",
              "      background-color: #3B4455;\n",
              "      fill: #D2E3FC;\n",
              "    }\n",
              "\n",
              "    [theme=dark] .colab-df-convert:hover {\n",
              "      background-color: #434B5C;\n",
              "      box-shadow: 0px 1px 3px 1px rgba(0, 0, 0, 0.15);\n",
              "      filter: drop-shadow(0px 1px 2px rgba(0, 0, 0, 0.3));\n",
              "      fill: #FFFFFF;\n",
              "    }\n",
              "  </style>\n",
              "\n",
              "      <script>\n",
              "        const buttonEl =\n",
              "          document.querySelector('#df-56b17c06-e831-4572-b5bf-e8a72555781b button.colab-df-convert');\n",
              "        buttonEl.style.display =\n",
              "          google.colab.kernel.accessAllowed ? 'block' : 'none';\n",
              "\n",
              "        async function convertToInteractive(key) {\n",
              "          const element = document.querySelector('#df-56b17c06-e831-4572-b5bf-e8a72555781b');\n",
              "          const dataTable =\n",
              "            await google.colab.kernel.invokeFunction('convertToInteractive',\n",
              "                                                     [key], {});\n",
              "          if (!dataTable) return;\n",
              "\n",
              "          const docLinkHtml = 'Like what you see? Visit the ' +\n",
              "            '<a target=\"_blank\" href=https://colab.research.google.com/notebooks/data_table.ipynb>data table notebook</a>'\n",
              "            + ' to learn more about interactive tables.';\n",
              "          element.innerHTML = '';\n",
              "          dataTable['output_type'] = 'display_data';\n",
              "          await google.colab.output.renderOutput(dataTable, element);\n",
              "          const docLink = document.createElement('div');\n",
              "          docLink.innerHTML = docLinkHtml;\n",
              "          element.appendChild(docLink);\n",
              "        }\n",
              "      </script>\n",
              "    </div>\n",
              "  </div>\n",
              "  "
            ],
            "text/plain": [
              "            Name  Games Played   MIN   PTS  FGM  FGA   FG%  3PM  3PA   3P%  \\\n",
              "0       AJ Price            26   324   133   51  137  37.2   15   57  26.3   \n",
              "1   Aaron Brooks            82  1885   954  344  817  42.1  121  313  38.7   \n",
              "2   Aaron Gordon            47   797   243   93  208  44.7   13   48  27.1   \n",
              "3  Adreian Payne            32   740   213   91  220  41.4    1    9  11.1   \n",
              "4     Al Horford            76  2318  1156  519  965  53.8   11   36  30.6   \n",
              "\n",
              "   ...   Age  Birth_Place           Birthdate                    Collage  \\\n",
              "0  ...  29.0           us     October 7, 1986  University of Connecticut   \n",
              "1  ...  30.0           us    January 14, 1985       University of Oregon   \n",
              "2  ...  20.0           us  September 16, 1995      University of Arizona   \n",
              "3  ...  24.0           us   February 19, 1991  Michigan State University   \n",
              "4  ...  29.0           do        June 3, 1986      University of Florida   \n",
              "\n",
              "   Experience  Height  Pos  Team  Weight        BMI  \n",
              "0           5   185.0   PG   PHO   81.45  23.798393  \n",
              "1           6   180.0   PG   CHI   72.45  22.361111  \n",
              "2           R   202.5   PF   ORL   99.00  24.142661  \n",
              "3           R   205.0   PF   ATL  106.65  25.377751  \n",
              "4           7   205.0    C   ATL  110.25  26.234384  \n",
              "\n",
              "[5 rows x 34 columns]"
            ]
          },
          "metadata": {},
          "execution_count": 24
        }
      ]
    },
    {
      "cell_type": "markdown",
      "metadata": {
        "id": "TAQB5nXGqa3P"
      },
      "source": [
        "The p value obtained is much lesser than the significance level $\\alpha$. We therefore reject the null hypothesis and accept the alternate hypothesis (the negation). We can therefore arrive at the following conclusion from this analysis:\n",
        "\n",
        "**The average height of NBA Players is NOT 6'7\"**."
      ]
    },
    {
      "cell_type": "code",
      "source": [
        "n1 = len(df2)\n",
        "mu1 = df2[\"Height\"].mean()\n",
        "sd1 = df2[\"Height\"].std()\n",
        "\n",
        "(n1, mu1, sd1)"
      ],
      "metadata": {
        "id": "S1MyyzTexhWM",
        "outputId": "fe188ed4-7b2b-40b3-a42d-ce186b83cbba",
        "colab": {
          "base_uri": "https://localhost:8080/"
        }
      },
      "execution_count": null,
      "outputs": [
        {
          "output_type": "execute_result",
          "data": {
            "text/plain": [
              "(490, 197.44075829383885, 8.740249940352058)"
            ]
          },
          "metadata": {},
          "execution_count": 25
        }
      ]
    },
    {
      "cell_type": "code",
      "source": [
        "# import statsmodels.api as sm\n",
        "\n",
        "# sm.stats.ztest(df2[\"Height\"].dropna(),alternative='two-sided')"
      ],
      "metadata": {
        "id": "wO7RaYMUyGIb",
        "outputId": "a6420f96-588c-471e-ba99-45c0defe52d6",
        "colab": {
          "base_uri": "https://localhost:8080/"
        }
      },
      "execution_count": null,
      "outputs": [
        {
          "output_type": "execute_result",
          "data": {
            "text/plain": [
              "(464.05470862910346, 0.0)"
            ]
          },
          "metadata": {},
          "execution_count": 26
        }
      ]
    },
    {
      "cell_type": "markdown",
      "source": [
        "**Using Python libraries.**"
      ],
      "metadata": {
        "id": "00JBfbogZq3-"
      }
    },
    {
      "cell_type": "code",
      "source": [
        "from statsmodels.stats.weightstats import ztest as ztest\n",
        "\n",
        "ztest(df2['Height'].dropna(), value=200.66)"
      ],
      "metadata": {
        "id": "dVUc-7WZyJDq",
        "outputId": "137f1bed-e051-4819-e349-a4ebfacb6470",
        "colab": {
          "base_uri": "https://localhost:8080/"
        }
      },
      "execution_count": null,
      "outputs": [
        {
          "output_type": "execute_result",
          "data": {
            "text/plain": [
              "(-7.566341847897391, 3.838810356044806e-14)"
            ]
          },
          "metadata": {},
          "execution_count": 27
        }
      ]
    },
    {
      "cell_type": "markdown",
      "source": [
        "**Since the p-value is extremly small, we reject the null hypothesis that the average height of players is 200.66**"
      ],
      "metadata": {
        "id": "SHBZecCH1X0B"
      }
    },
    {
      "cell_type": "code",
      "source": [
        ""
      ],
      "metadata": {
        "id": "VqUYBc2HyJF-"
      },
      "execution_count": null,
      "outputs": []
    },
    {
      "cell_type": "code",
      "source": [
        ""
      ],
      "metadata": {
        "id": "HsWA5HDiyGMk"
      },
      "execution_count": null,
      "outputs": []
    },
    {
      "cell_type": "markdown",
      "metadata": {
        "id": "NRSBVJ8Vqa3H"
      },
      "source": [
        "# Analyzing DEPRESSION in India by Gender\n",
        "\n",
        "Are men as likely to commit suicide as women?\n",
        "\n",
        "This is the question we will attempt at answering in this section. To answer this question, we will use suicide statistics shared by the National Crime Records Bureau (NCRB), Govt of India. To perform this analysis, we need to know the sex ratio in India. The Census 2011 report states that there are 940 females for every 1000 males in India.\n",
        "\n",
        "Let p denote the fraction of women in India."
      ]
    },
    {
      "cell_type": "markdown",
      "metadata": {
        "id": "AS1tQl_lUweH"
      },
      "source": [
        "# H0:MEN AND WOMEN  ARE EQUALLY LIKELY TO DEPRESS    (NULL)\n",
        "# H1:MEN AND WOMEN  ARE  NOT EQUALLY LIKELY TO DEPRESS  (ALTERNATE)\n"
      ]
    },
    {
      "cell_type": "code",
      "metadata": {
        "id": "sb5KWpgQqa3H",
        "colab": {
          "base_uri": "https://localhost:8080/"
        },
        "outputId": "4851c870-da37-4bc6-c482-20a56fe537ae"
      },
      "source": [
        "p = 940/(940+1000)   # Female population proportion       \n",
        "p  "
      ],
      "execution_count": null,
      "outputs": [
        {
          "output_type": "execute_result",
          "data": {
            "text/plain": [
              "0.4845360824742268"
            ]
          },
          "metadata": {},
          "execution_count": 28
        }
      ]
    },
    {
      "cell_type": "code",
      "source": [
        "1-0.4845360824742268\n"
      ],
      "metadata": {
        "id": "xTt_Yz1UfFBU",
        "outputId": "c5bb27a0-ff10-4ca3-95e2-f7121180f4a0",
        "colab": {
          "base_uri": "https://localhost:8080/"
        }
      },
      "execution_count": null,
      "outputs": [
        {
          "output_type": "execute_result",
          "data": {
            "text/plain": [
              "0.5154639175257731"
            ]
          },
          "metadata": {},
          "execution_count": 43
        }
      ]
    },
    {
      "cell_type": "code",
      "metadata": {
        "id": "E1FK-z5dqa3J",
        "colab": {
          "base_uri": "https://localhost:8080/",
          "height": 206
        },
        "outputId": "89ef262a-7350-435a-9b01-017cb35a21dd"
      },
      "source": [
        "df = pd.read_excel('Suicides.xlsx')\n",
        "df.head()"
      ],
      "execution_count": null,
      "outputs": [
        {
          "output_type": "execute_result",
          "data": {
            "text/html": [
              "\n",
              "  <div id=\"df-4f40c1a1-ea8a-4b0d-be59-90a9c07c2849\">\n",
              "    <div class=\"colab-df-container\">\n",
              "      <div>\n",
              "<style scoped>\n",
              "    .dataframe tbody tr th:only-of-type {\n",
              "        vertical-align: middle;\n",
              "    }\n",
              "\n",
              "    .dataframe tbody tr th {\n",
              "        vertical-align: top;\n",
              "    }\n",
              "\n",
              "    .dataframe thead th {\n",
              "        text-align: right;\n",
              "    }\n",
              "</style>\n",
              "<table border=\"1\" class=\"dataframe\">\n",
              "  <thead>\n",
              "    <tr style=\"text-align: right;\">\n",
              "      <th></th>\n",
              "      <th>State</th>\n",
              "      <th>Year</th>\n",
              "      <th>Type_code</th>\n",
              "      <th>Type</th>\n",
              "      <th>Gender</th>\n",
              "      <th>Age_group</th>\n",
              "      <th>Total</th>\n",
              "    </tr>\n",
              "  </thead>\n",
              "  <tbody>\n",
              "    <tr>\n",
              "      <th>0</th>\n",
              "      <td>A &amp; N Islands</td>\n",
              "      <td>2001</td>\n",
              "      <td>Causes</td>\n",
              "      <td>Illness (Aids/STD)</td>\n",
              "      <td>Female</td>\n",
              "      <td>0-14</td>\n",
              "      <td>0</td>\n",
              "    </tr>\n",
              "    <tr>\n",
              "      <th>1</th>\n",
              "      <td>A &amp; N Islands</td>\n",
              "      <td>2001</td>\n",
              "      <td>Causes</td>\n",
              "      <td>Bankruptcy or Sudden change in Economic</td>\n",
              "      <td>Female</td>\n",
              "      <td>0-14</td>\n",
              "      <td>0</td>\n",
              "    </tr>\n",
              "    <tr>\n",
              "      <th>2</th>\n",
              "      <td>A &amp; N Islands</td>\n",
              "      <td>2001</td>\n",
              "      <td>Causes</td>\n",
              "      <td>Cancellation/Non-Settlement of Marriage</td>\n",
              "      <td>Female</td>\n",
              "      <td>0-14</td>\n",
              "      <td>0</td>\n",
              "    </tr>\n",
              "    <tr>\n",
              "      <th>3</th>\n",
              "      <td>A &amp; N Islands</td>\n",
              "      <td>2001</td>\n",
              "      <td>Causes</td>\n",
              "      <td>Physical Abuse (Rape/Incest Etc.)</td>\n",
              "      <td>Female</td>\n",
              "      <td>0-14</td>\n",
              "      <td>0</td>\n",
              "    </tr>\n",
              "    <tr>\n",
              "      <th>4</th>\n",
              "      <td>A &amp; N Islands</td>\n",
              "      <td>2001</td>\n",
              "      <td>Causes</td>\n",
              "      <td>Dowry Dispute</td>\n",
              "      <td>Female</td>\n",
              "      <td>0-14</td>\n",
              "      <td>0</td>\n",
              "    </tr>\n",
              "  </tbody>\n",
              "</table>\n",
              "</div>\n",
              "      <button class=\"colab-df-convert\" onclick=\"convertToInteractive('df-4f40c1a1-ea8a-4b0d-be59-90a9c07c2849')\"\n",
              "              title=\"Convert this dataframe to an interactive table.\"\n",
              "              style=\"display:none;\">\n",
              "        \n",
              "  <svg xmlns=\"http://www.w3.org/2000/svg\" height=\"24px\"viewBox=\"0 0 24 24\"\n",
              "       width=\"24px\">\n",
              "    <path d=\"M0 0h24v24H0V0z\" fill=\"none\"/>\n",
              "    <path d=\"M18.56 5.44l.94 2.06.94-2.06 2.06-.94-2.06-.94-.94-2.06-.94 2.06-2.06.94zm-11 1L8.5 8.5l.94-2.06 2.06-.94-2.06-.94L8.5 2.5l-.94 2.06-2.06.94zm10 10l.94 2.06.94-2.06 2.06-.94-2.06-.94-.94-2.06-.94 2.06-2.06.94z\"/><path d=\"M17.41 7.96l-1.37-1.37c-.4-.4-.92-.59-1.43-.59-.52 0-1.04.2-1.43.59L10.3 9.45l-7.72 7.72c-.78.78-.78 2.05 0 2.83L4 21.41c.39.39.9.59 1.41.59.51 0 1.02-.2 1.41-.59l7.78-7.78 2.81-2.81c.8-.78.8-2.07 0-2.86zM5.41 20L4 18.59l7.72-7.72 1.47 1.35L5.41 20z\"/>\n",
              "  </svg>\n",
              "      </button>\n",
              "      \n",
              "  <style>\n",
              "    .colab-df-container {\n",
              "      display:flex;\n",
              "      flex-wrap:wrap;\n",
              "      gap: 12px;\n",
              "    }\n",
              "\n",
              "    .colab-df-convert {\n",
              "      background-color: #E8F0FE;\n",
              "      border: none;\n",
              "      border-radius: 50%;\n",
              "      cursor: pointer;\n",
              "      display: none;\n",
              "      fill: #1967D2;\n",
              "      height: 32px;\n",
              "      padding: 0 0 0 0;\n",
              "      width: 32px;\n",
              "    }\n",
              "\n",
              "    .colab-df-convert:hover {\n",
              "      background-color: #E2EBFA;\n",
              "      box-shadow: 0px 1px 2px rgba(60, 64, 67, 0.3), 0px 1px 3px 1px rgba(60, 64, 67, 0.15);\n",
              "      fill: #174EA6;\n",
              "    }\n",
              "\n",
              "    [theme=dark] .colab-df-convert {\n",
              "      background-color: #3B4455;\n",
              "      fill: #D2E3FC;\n",
              "    }\n",
              "\n",
              "    [theme=dark] .colab-df-convert:hover {\n",
              "      background-color: #434B5C;\n",
              "      box-shadow: 0px 1px 3px 1px rgba(0, 0, 0, 0.15);\n",
              "      filter: drop-shadow(0px 1px 2px rgba(0, 0, 0, 0.3));\n",
              "      fill: #FFFFFF;\n",
              "    }\n",
              "  </style>\n",
              "\n",
              "      <script>\n",
              "        const buttonEl =\n",
              "          document.querySelector('#df-4f40c1a1-ea8a-4b0d-be59-90a9c07c2849 button.colab-df-convert');\n",
              "        buttonEl.style.display =\n",
              "          google.colab.kernel.accessAllowed ? 'block' : 'none';\n",
              "\n",
              "        async function convertToInteractive(key) {\n",
              "          const element = document.querySelector('#df-4f40c1a1-ea8a-4b0d-be59-90a9c07c2849');\n",
              "          const dataTable =\n",
              "            await google.colab.kernel.invokeFunction('convertToInteractive',\n",
              "                                                     [key], {});\n",
              "          if (!dataTable) return;\n",
              "\n",
              "          const docLinkHtml = 'Like what you see? Visit the ' +\n",
              "            '<a target=\"_blank\" href=https://colab.research.google.com/notebooks/data_table.ipynb>data table notebook</a>'\n",
              "            + ' to learn more about interactive tables.';\n",
              "          element.innerHTML = '';\n",
              "          dataTable['output_type'] = 'display_data';\n",
              "          await google.colab.output.renderOutput(dataTable, element);\n",
              "          const docLink = document.createElement('div');\n",
              "          docLink.innerHTML = docLinkHtml;\n",
              "          element.appendChild(docLink);\n",
              "        }\n",
              "      </script>\n",
              "    </div>\n",
              "  </div>\n",
              "  "
            ],
            "text/plain": [
              "           State  Year Type_code                                     Type  \\\n",
              "0  A & N Islands  2001    Causes                       Illness (Aids/STD)   \n",
              "1  A & N Islands  2001    Causes  Bankruptcy or Sudden change in Economic   \n",
              "2  A & N Islands  2001    Causes  Cancellation/Non-Settlement of Marriage   \n",
              "3  A & N Islands  2001    Causes        Physical Abuse (Rape/Incest Etc.)   \n",
              "4  A & N Islands  2001    Causes                            Dowry Dispute   \n",
              "\n",
              "   Gender Age_group  Total  \n",
              "0  Female      0-14      0  \n",
              "1  Female      0-14      0  \n",
              "2  Female      0-14      0  \n",
              "3  Female      0-14      0  \n",
              "4  Female      0-14      0  "
            ]
          },
          "metadata": {},
          "execution_count": 29
        }
      ]
    },
    {
      "cell_type": "code",
      "metadata": {
        "id": "k6i1o73uqa3J",
        "colab": {
          "base_uri": "https://localhost:8080/"
        },
        "outputId": "aa6e99f0-514b-4116-de44-4dd1420c9efe"
      },
      "source": [
        "df.shape"
      ],
      "execution_count": null,
      "outputs": [
        {
          "output_type": "execute_result",
          "data": {
            "text/plain": [
              "(237519, 7)"
            ]
          },
          "metadata": {},
          "execution_count": 30
        }
      ]
    },
    {
      "cell_type": "code",
      "metadata": {
        "id": "BDFcIRrGqa3J",
        "colab": {
          "base_uri": "https://localhost:8080/"
        },
        "outputId": "0e78bc39-f2d3-49f0-fa83-e5ce3e08daf0"
      },
      "source": [
        "df['Gender'].value_counts()"
      ],
      "execution_count": null,
      "outputs": [
        {
          "output_type": "execute_result",
          "data": {
            "text/plain": [
              "Male      118879\n",
              "Female    118640\n",
              "Name: Gender, dtype: int64"
            ]
          },
          "metadata": {},
          "execution_count": 31
        }
      ]
    },
    {
      "cell_type": "markdown",
      "metadata": {
        "id": "R80TRn_mqa3K"
      },
      "source": [
        "#### Step 2: Decide on the Statsitical Test\n",
        "\n",
        "We will be using the One Sample Z-Test here. "
      ]
    },
    {
      "cell_type": "markdown",
      "metadata": {
        "id": "TMQLQ2qhqa3L"
      },
      "source": [
        "#### Step 3: Compute the p-value"
      ]
    },
    {
      "cell_type": "code",
      "metadata": {
        "id": "lQxzExrZqa3L",
        "colab": {
          "base_uri": "https://localhost:8080/"
        },
        "outputId": "0579e844-d6de-42ca-86c9-4b4e0b8881da"
      },
      "source": [
        "h0_prop = p\n",
        "h0_prop"
      ],
      "execution_count": null,
      "outputs": [
        {
          "output_type": "execute_result",
          "data": {
            "text/plain": [
              "0.4845360824742268"
            ]
          },
          "metadata": {},
          "execution_count": 32
        }
      ]
    },
    {
      "cell_type": "code",
      "metadata": {
        "id": "J0tBU5moqa3L",
        "colab": {
          "base_uri": "https://localhost:8080/"
        },
        "outputId": "192e4bb6-5188-4ba9-b5ae-e45819bda1d4"
      },
      "source": [
        "h1_prop = df['Gender'].value_counts()['Female']/len(df)\n",
        "h1_prop"
      ],
      "execution_count": null,
      "outputs": [
        {
          "output_type": "execute_result",
          "data": {
            "text/plain": [
              "0.49949688235467476"
            ]
          },
          "metadata": {},
          "execution_count": 33
        }
      ]
    },
    {
      "cell_type": "code",
      "metadata": {
        "id": "3b1QG9Z5qa3M",
        "colab": {
          "base_uri": "https://localhost:8080/"
        },
        "outputId": "830c88d8-6359-4407-dc8e-2e59da704b33"
      },
      "source": [
        "sigma_prop = np.sqrt((h0_prop * (1 - h0_prop))/len(df))\n",
        "sigma_prop"
      ],
      "execution_count": null,
      "outputs": [
        {
          "output_type": "execute_result",
          "data": {
            "text/plain": [
              "0.0010254465276083747"
            ]
          },
          "metadata": {},
          "execution_count": 34
        }
      ]
    },
    {
      "cell_type": "code",
      "metadata": {
        "id": "5BHcH7wqqa3M",
        "colab": {
          "base_uri": "https://localhost:8080/"
        },
        "outputId": "20056881-a82b-4c25-a51c-a91bcfc310b9"
      },
      "source": [
        "z = (h1_prop - h0_prop)/sigma_prop\n",
        "z"
      ],
      "execution_count": null,
      "outputs": [
        {
          "output_type": "execute_result",
          "data": {
            "text/plain": [
              "14.589546580591277"
            ]
          },
          "metadata": {},
          "execution_count": 35
        }
      ]
    },
    {
      "cell_type": "code",
      "metadata": {
        "id": "TLSW0TB8qa3M",
        "colab": {
          "base_uri": "https://localhost:8080/"
        },
        "outputId": "d0942943-03bd-4651-ca97-25f7393ae877"
      },
      "source": [
        "p_val = (1-stats.norm.cdf(z))*2       # pval<alpha\n",
        "p_val"
      ],
      "execution_count": null,
      "outputs": [
        {
          "output_type": "execute_result",
          "data": {
            "text/plain": [
              "0.0"
            ]
          },
          "metadata": {},
          "execution_count": 36
        }
      ]
    },
    {
      "cell_type": "code",
      "source": [
        "df['Gender'].value_counts()['Male ']"
      ],
      "metadata": {
        "id": "LIm04n5YoFVw",
        "outputId": "18d96590-73d9-422b-d22e-55c1016a6776",
        "colab": {
          "base_uri": "https://localhost:8080/"
        }
      },
      "execution_count": null,
      "outputs": [
        {
          "output_type": "execute_result",
          "data": {
            "text/plain": [
              "118879"
            ]
          },
          "metadata": {},
          "execution_count": 40
        }
      ]
    },
    {
      "cell_type": "code",
      "source": [
        "from statsmodels.stats import weightstats as stests"
      ],
      "metadata": {
        "id": "OdJ-mqv2oFai"
      },
      "execution_count": null,
      "outputs": []
    },
    {
      "cell_type": "code",
      "source": [
        "**Using Python library**"
      ],
      "metadata": {
        "id": "Oxv_JlFRZ98C"
      },
      "execution_count": null,
      "outputs": []
    },
    {
      "cell_type": "code",
      "source": [
        "from statsmodels.stats.proportion import proportions_ztest\n",
        "z, pval = proportions_ztest(h0_prop,len(df),h1_prop)"
      ],
      "metadata": {
        "id": "CqKLBx-roFgg"
      },
      "execution_count": null,
      "outputs": []
    },
    {
      "cell_type": "code",
      "source": [
        "print(z,pval)"
      ],
      "metadata": {
        "id": "a6SELUbZ3FdG",
        "outputId": "b618d7ec-b3ee-4d41-bff1-cb810b915b87",
        "colab": {
          "base_uri": "https://localhost:8080/"
        }
      },
      "execution_count": null,
      "outputs": [
        {
          "output_type": "stream",
          "name": "stdout",
          "text": [
            "-170438.12406155787 0.0\n"
          ]
        }
      ]
    },
    {
      "cell_type": "markdown",
      "source": [
        "**p-value > z-value, we accept the null hypothesis.**"
      ],
      "metadata": {
        "id": "OFL7BFBpy8ov"
      }
    },
    {
      "cell_type": "markdown",
      "metadata": {
        "id": "bnCRQPuUqa3Q"
      },
      "source": [
        "# Analyzing Literacy Rates\n",
        "\n",
        "Two Sample test"
      ]
    },
    {
      "cell_type": "code",
      "metadata": {
        "id": "4EU-v9E4Qcv1"
      },
      "source": [
        ""
      ],
      "execution_count": null,
      "outputs": []
    },
    {
      "cell_type": "code",
      "metadata": {
        "id": "5YnK6Fycqa3Q",
        "colab": {
          "base_uri": "https://localhost:8080/",
          "height": 352
        },
        "outputId": "b48f3a21-b928-451f-d79e-cc227fc0ef32"
      },
      "source": [
        "df3 = pd.read_csv('cities.csv')\n",
        "df3.head()"
      ],
      "execution_count": null,
      "outputs": [
        {
          "output_type": "execute_result",
          "data": {
            "text/html": [
              "\n",
              "  <div id=\"df-e22266fc-3928-41db-85b2-b6b23f0a0b8a\">\n",
              "    <div class=\"colab-df-container\">\n",
              "      <div>\n",
              "<style scoped>\n",
              "    .dataframe tbody tr th:only-of-type {\n",
              "        vertical-align: middle;\n",
              "    }\n",
              "\n",
              "    .dataframe tbody tr th {\n",
              "        vertical-align: top;\n",
              "    }\n",
              "\n",
              "    .dataframe thead th {\n",
              "        text-align: right;\n",
              "    }\n",
              "</style>\n",
              "<table border=\"1\" class=\"dataframe\">\n",
              "  <thead>\n",
              "    <tr style=\"text-align: right;\">\n",
              "      <th></th>\n",
              "      <th>name_of_city</th>\n",
              "      <th>state_code</th>\n",
              "      <th>state_name</th>\n",
              "      <th>dist_code</th>\n",
              "      <th>population_total</th>\n",
              "      <th>population_male</th>\n",
              "      <th>population_female</th>\n",
              "      <th>0-6_population_total</th>\n",
              "      <th>0-6_population_male</th>\n",
              "      <th>0-6_population_female</th>\n",
              "      <th>...</th>\n",
              "      <th>literates_female</th>\n",
              "      <th>sex_ratio</th>\n",
              "      <th>child_sex_ratio</th>\n",
              "      <th>effective_literacy_rate_total</th>\n",
              "      <th>effective_literacy_rate_male</th>\n",
              "      <th>effective_literacy_rate_female</th>\n",
              "      <th>location</th>\n",
              "      <th>total_graduates</th>\n",
              "      <th>male_graduates</th>\n",
              "      <th>female_graduates</th>\n",
              "    </tr>\n",
              "  </thead>\n",
              "  <tbody>\n",
              "    <tr>\n",
              "      <th>0</th>\n",
              "      <td>Abohar</td>\n",
              "      <td>3</td>\n",
              "      <td>PUNJAB</td>\n",
              "      <td>9</td>\n",
              "      <td>145238</td>\n",
              "      <td>76840</td>\n",
              "      <td>68398</td>\n",
              "      <td>15870</td>\n",
              "      <td>8587</td>\n",
              "      <td>7283</td>\n",
              "      <td>...</td>\n",
              "      <td>44972</td>\n",
              "      <td>890</td>\n",
              "      <td>848</td>\n",
              "      <td>79.86</td>\n",
              "      <td>85.49</td>\n",
              "      <td>73.59</td>\n",
              "      <td>30.1452928,74.1993043</td>\n",
              "      <td>16287</td>\n",
              "      <td>8612</td>\n",
              "      <td>7675</td>\n",
              "    </tr>\n",
              "    <tr>\n",
              "      <th>1</th>\n",
              "      <td>Achalpur</td>\n",
              "      <td>27</td>\n",
              "      <td>MAHARASHTRA</td>\n",
              "      <td>7</td>\n",
              "      <td>112293</td>\n",
              "      <td>58256</td>\n",
              "      <td>54037</td>\n",
              "      <td>11810</td>\n",
              "      <td>6186</td>\n",
              "      <td>5624</td>\n",
              "      <td>...</td>\n",
              "      <td>43086</td>\n",
              "      <td>928</td>\n",
              "      <td>909</td>\n",
              "      <td>91.99</td>\n",
              "      <td>94.77</td>\n",
              "      <td>89.00</td>\n",
              "      <td>21.257584,77.5086754</td>\n",
              "      <td>8863</td>\n",
              "      <td>5269</td>\n",
              "      <td>3594</td>\n",
              "    </tr>\n",
              "    <tr>\n",
              "      <th>2</th>\n",
              "      <td>Adilabad</td>\n",
              "      <td>28</td>\n",
              "      <td>ANDHRA PRADESH</td>\n",
              "      <td>1</td>\n",
              "      <td>117388</td>\n",
              "      <td>59232</td>\n",
              "      <td>58156</td>\n",
              "      <td>13103</td>\n",
              "      <td>6731</td>\n",
              "      <td>6372</td>\n",
              "      <td>...</td>\n",
              "      <td>37660</td>\n",
              "      <td>982</td>\n",
              "      <td>947</td>\n",
              "      <td>80.51</td>\n",
              "      <td>88.18</td>\n",
              "      <td>72.73</td>\n",
              "      <td>19.0809075,79.560344</td>\n",
              "      <td>10565</td>\n",
              "      <td>6797</td>\n",
              "      <td>3768</td>\n",
              "    </tr>\n",
              "    <tr>\n",
              "      <th>3</th>\n",
              "      <td>Adityapur</td>\n",
              "      <td>20</td>\n",
              "      <td>JHARKHAND</td>\n",
              "      <td>24</td>\n",
              "      <td>173988</td>\n",
              "      <td>91495</td>\n",
              "      <td>82493</td>\n",
              "      <td>23042</td>\n",
              "      <td>12063</td>\n",
              "      <td>10979</td>\n",
              "      <td>...</td>\n",
              "      <td>54515</td>\n",
              "      <td>902</td>\n",
              "      <td>910</td>\n",
              "      <td>83.46</td>\n",
              "      <td>89.98</td>\n",
              "      <td>76.23</td>\n",
              "      <td>22.7834741,86.1576889</td>\n",
              "      <td>19225</td>\n",
              "      <td>12189</td>\n",
              "      <td>7036</td>\n",
              "    </tr>\n",
              "    <tr>\n",
              "      <th>4</th>\n",
              "      <td>Adoni</td>\n",
              "      <td>28</td>\n",
              "      <td>ANDHRA PRADESH</td>\n",
              "      <td>21</td>\n",
              "      <td>166537</td>\n",
              "      <td>82743</td>\n",
              "      <td>83794</td>\n",
              "      <td>18406</td>\n",
              "      <td>9355</td>\n",
              "      <td>9051</td>\n",
              "      <td>...</td>\n",
              "      <td>45089</td>\n",
              "      <td>1013</td>\n",
              "      <td>968</td>\n",
              "      <td>68.38</td>\n",
              "      <td>76.58</td>\n",
              "      <td>60.33</td>\n",
              "      <td>15.6322227,77.2728368</td>\n",
              "      <td>11902</td>\n",
              "      <td>7871</td>\n",
              "      <td>4031</td>\n",
              "    </tr>\n",
              "  </tbody>\n",
              "</table>\n",
              "<p>5 rows × 22 columns</p>\n",
              "</div>\n",
              "      <button class=\"colab-df-convert\" onclick=\"convertToInteractive('df-e22266fc-3928-41db-85b2-b6b23f0a0b8a')\"\n",
              "              title=\"Convert this dataframe to an interactive table.\"\n",
              "              style=\"display:none;\">\n",
              "        \n",
              "  <svg xmlns=\"http://www.w3.org/2000/svg\" height=\"24px\"viewBox=\"0 0 24 24\"\n",
              "       width=\"24px\">\n",
              "    <path d=\"M0 0h24v24H0V0z\" fill=\"none\"/>\n",
              "    <path d=\"M18.56 5.44l.94 2.06.94-2.06 2.06-.94-2.06-.94-.94-2.06-.94 2.06-2.06.94zm-11 1L8.5 8.5l.94-2.06 2.06-.94-2.06-.94L8.5 2.5l-.94 2.06-2.06.94zm10 10l.94 2.06.94-2.06 2.06-.94-2.06-.94-.94-2.06-.94 2.06-2.06.94z\"/><path d=\"M17.41 7.96l-1.37-1.37c-.4-.4-.92-.59-1.43-.59-.52 0-1.04.2-1.43.59L10.3 9.45l-7.72 7.72c-.78.78-.78 2.05 0 2.83L4 21.41c.39.39.9.59 1.41.59.51 0 1.02-.2 1.41-.59l7.78-7.78 2.81-2.81c.8-.78.8-2.07 0-2.86zM5.41 20L4 18.59l7.72-7.72 1.47 1.35L5.41 20z\"/>\n",
              "  </svg>\n",
              "      </button>\n",
              "      \n",
              "  <style>\n",
              "    .colab-df-container {\n",
              "      display:flex;\n",
              "      flex-wrap:wrap;\n",
              "      gap: 12px;\n",
              "    }\n",
              "\n",
              "    .colab-df-convert {\n",
              "      background-color: #E8F0FE;\n",
              "      border: none;\n",
              "      border-radius: 50%;\n",
              "      cursor: pointer;\n",
              "      display: none;\n",
              "      fill: #1967D2;\n",
              "      height: 32px;\n",
              "      padding: 0 0 0 0;\n",
              "      width: 32px;\n",
              "    }\n",
              "\n",
              "    .colab-df-convert:hover {\n",
              "      background-color: #E2EBFA;\n",
              "      box-shadow: 0px 1px 2px rgba(60, 64, 67, 0.3), 0px 1px 3px 1px rgba(60, 64, 67, 0.15);\n",
              "      fill: #174EA6;\n",
              "    }\n",
              "\n",
              "    [theme=dark] .colab-df-convert {\n",
              "      background-color: #3B4455;\n",
              "      fill: #D2E3FC;\n",
              "    }\n",
              "\n",
              "    [theme=dark] .colab-df-convert:hover {\n",
              "      background-color: #434B5C;\n",
              "      box-shadow: 0px 1px 3px 1px rgba(0, 0, 0, 0.15);\n",
              "      filter: drop-shadow(0px 1px 2px rgba(0, 0, 0, 0.3));\n",
              "      fill: #FFFFFF;\n",
              "    }\n",
              "  </style>\n",
              "\n",
              "      <script>\n",
              "        const buttonEl =\n",
              "          document.querySelector('#df-e22266fc-3928-41db-85b2-b6b23f0a0b8a button.colab-df-convert');\n",
              "        buttonEl.style.display =\n",
              "          google.colab.kernel.accessAllowed ? 'block' : 'none';\n",
              "\n",
              "        async function convertToInteractive(key) {\n",
              "          const element = document.querySelector('#df-e22266fc-3928-41db-85b2-b6b23f0a0b8a');\n",
              "          const dataTable =\n",
              "            await google.colab.kernel.invokeFunction('convertToInteractive',\n",
              "                                                     [key], {});\n",
              "          if (!dataTable) return;\n",
              "\n",
              "          const docLinkHtml = 'Like what you see? Visit the ' +\n",
              "            '<a target=\"_blank\" href=https://colab.research.google.com/notebooks/data_table.ipynb>data table notebook</a>'\n",
              "            + ' to learn more about interactive tables.';\n",
              "          element.innerHTML = '';\n",
              "          dataTable['output_type'] = 'display_data';\n",
              "          await google.colab.output.renderOutput(dataTable, element);\n",
              "          const docLink = document.createElement('div');\n",
              "          docLink.innerHTML = docLinkHtml;\n",
              "          element.appendChild(docLink);\n",
              "        }\n",
              "      </script>\n",
              "    </div>\n",
              "  </div>\n",
              "  "
            ],
            "text/plain": [
              "  name_of_city  state_code      state_name  dist_code  population_total  \\\n",
              "0      Abohar            3          PUNJAB          9            145238   \n",
              "1    Achalpur           27     MAHARASHTRA          7            112293   \n",
              "2    Adilabad           28  ANDHRA PRADESH          1            117388   \n",
              "3   Adityapur           20       JHARKHAND         24            173988   \n",
              "4       Adoni           28  ANDHRA PRADESH         21            166537   \n",
              "\n",
              "   population_male  population_female  0-6_population_total  \\\n",
              "0            76840              68398                 15870   \n",
              "1            58256              54037                 11810   \n",
              "2            59232              58156                 13103   \n",
              "3            91495              82493                 23042   \n",
              "4            82743              83794                 18406   \n",
              "\n",
              "   0-6_population_male  0-6_population_female  ...  literates_female  \\\n",
              "0                 8587                   7283  ...             44972   \n",
              "1                 6186                   5624  ...             43086   \n",
              "2                 6731                   6372  ...             37660   \n",
              "3                12063                  10979  ...             54515   \n",
              "4                 9355                   9051  ...             45089   \n",
              "\n",
              "   sex_ratio  child_sex_ratio  effective_literacy_rate_total  \\\n",
              "0        890              848                          79.86   \n",
              "1        928              909                          91.99   \n",
              "2        982              947                          80.51   \n",
              "3        902              910                          83.46   \n",
              "4       1013              968                          68.38   \n",
              "\n",
              "   effective_literacy_rate_male  effective_literacy_rate_female  \\\n",
              "0                         85.49                           73.59   \n",
              "1                         94.77                           89.00   \n",
              "2                         88.18                           72.73   \n",
              "3                         89.98                           76.23   \n",
              "4                         76.58                           60.33   \n",
              "\n",
              "                location  total_graduates male_graduates  female_graduates  \n",
              "0  30.1452928,74.1993043            16287           8612              7675  \n",
              "1   21.257584,77.5086754             8863           5269              3594  \n",
              "2   19.0809075,79.560344            10565           6797              3768  \n",
              "3  22.7834741,86.1576889            19225          12189              7036  \n",
              "4  15.6322227,77.2728368            11902           7871              4031  \n",
              "\n",
              "[5 rows x 22 columns]"
            ]
          },
          "metadata": {},
          "execution_count": 54
        }
      ]
    },
    {
      "cell_type": "code",
      "metadata": {
        "id": "tDYSOioUqa3Q",
        "colab": {
          "base_uri": "https://localhost:8080/"
        },
        "outputId": "db486bd1-8221-4a7c-be95-4cae8d975046"
      },
      "source": [
        "df3['state_name'].value_counts()"
      ],
      "execution_count": null,
      "outputs": [
        {
          "output_type": "execute_result",
          "data": {
            "text/plain": [
              "UTTAR PRADESH                63\n",
              "WEST BENGAL                  61\n",
              "MAHARASHTRA                  43\n",
              "ANDHRA PRADESH               42\n",
              "MADHYA PRADESH               32\n",
              "TAMIL NADU                   32\n",
              "GUJARAT                      29\n",
              "RAJASTHAN                    29\n",
              "BIHAR                        26\n",
              "KARNATAKA                    26\n",
              "HARYANA                      20\n",
              "PUNJAB                       16\n",
              "NCT OF DELHI                 15\n",
              "ORISSA                       10\n",
              "JHARKHAND                    10\n",
              "CHHATTISGARH                  9\n",
              "KERALA                        7\n",
              "UTTARAKHAND                   6\n",
              "ASSAM                         4\n",
              "JAMMU & KASHMIR               3\n",
              "PUDUCHERRY                    2\n",
              "MANIPUR                       1\n",
              "MEGHALAYA                     1\n",
              "ANDAMAN & NICOBAR ISLANDS     1\n",
              "CHANDIGARH                    1\n",
              "NAGALAND                      1\n",
              "TRIPURA                       1\n",
              "MIZORAM                       1\n",
              "HIMACHAL PRADESH              1\n",
              "Name: state_name, dtype: int64"
            ]
          },
          "metadata": {},
          "execution_count": 55
        }
      ]
    },
    {
      "cell_type": "code",
      "metadata": {
        "collapsed": true,
        "id": "XDLuXVnWqa3R"
      },
      "source": [
        "punjab = df3[df3['state_name'] == 'PUNJAB']['effective_literacy_rate_total']\n",
        "delhi = df3[df3['state_name'] == 'NCT OF DELHI']['effective_literacy_rate_total']"
      ],
      "execution_count": null,
      "outputs": []
    },
    {
      "cell_type": "code",
      "metadata": {
        "id": "mdihy7lcqa3R",
        "colab": {
          "base_uri": "https://localhost:8080/"
        },
        "outputId": "7c0d0b2d-f946-4473-d5fe-68e9bb2f8bc0"
      },
      "source": [
        "punjab_mean = punjab.mean()\n",
        "punjab_std = punjab.std()\n",
        "\n",
        "punjab_mean, punjab_std"
      ],
      "execution_count": null,
      "outputs": [
        {
          "output_type": "execute_result",
          "data": {
            "text/plain": [
              "(83.44062499999998, 5.381935796408821)"
            ]
          },
          "metadata": {},
          "execution_count": 57
        }
      ]
    },
    {
      "cell_type": "code",
      "metadata": {
        "id": "838J3HJvqa3R",
        "colab": {
          "base_uri": "https://localhost:8080/"
        },
        "outputId": "413001e2-3c66-4c29-85c2-82e142f524ff"
      },
      "source": [
        "delhi_mean = delhi.mean()\n",
        "delhi_std = delhi.std()\n",
        "\n",
        "delhi_mean, delhi_std"
      ],
      "execution_count": null,
      "outputs": [
        {
          "output_type": "execute_result",
          "data": {
            "text/plain": [
              "(83.658, 4.6569551671206195)"
            ]
          },
          "metadata": {},
          "execution_count": 58
        }
      ]
    },
    {
      "cell_type": "markdown",
      "metadata": {
        "id": "gdHBf33iqa3R"
      },
      "source": [
        "From the above calculations, it can be seen that the mean and the standard deviations of Punjab and Delhi literacy rates differ slightly. The next step is to determine if this difference is a statistically significant one."
      ]
    },
    {
      "cell_type": "markdown",
      "metadata": {
        "id": "ry8tYKhAqa3S"
      },
      "source": [
        "For hypothesis testing, the following are defined:\n",
        "\n",
        "* **Null Hypothesis:** The true mean literacy rate for Punjab and Delhi are the same.\n",
        "* **Alternate Hypothesis:** The true mean literacy rate for Punjab and Delhi are not the same.\n",
        "\n",
        "The threshold value of $\\alpha$ is assumed to be 0.05.\n",
        "Assuming Null Hypothesis is true."
      ]
    },
    {
      "cell_type": "code",
      "metadata": {
        "id": "Fb-m4jWzqa3S",
        "colab": {
          "base_uri": "https://localhost:8080/"
        },
        "outputId": "5aaf68bd-84ff-4230-f99c-e3f04c919c7c"
      },
      "source": [
        "h0_mean = 0\n",
        "mean_diff = delhi_mean - punjab_mean\n",
        "sigma_diff = np.sqrt((delhi_std**2)/len(delhi)  + (punjab_std**2)/len(punjab))\n",
        "mean_diff, sigma_diff"
      ],
      "execution_count": null,
      "outputs": [
        {
          "output_type": "execute_result",
          "data": {
            "text/plain": [
              "(0.2173750000000183, 1.8044784525904138)"
            ]
          },
          "metadata": {},
          "execution_count": 59
        }
      ]
    },
    {
      "cell_type": "markdown",
      "metadata": {
        "id": "6KBiAmvOqa3S"
      },
      "source": [
        "Since we are dealing with sample sizes less than 30, using the t-statistic will be more appropriate. To use student's t though, we need to calculate the degree of freedom. This is done as follows:"
      ]
    },
    {
      "cell_type": "code",
      "metadata": {
        "id": "saGZuleFqa3S",
        "colab": {
          "base_uri": "https://localhost:8080/"
        },
        "outputId": "f6dc7e0c-3c47-4da2-93ee-bc3e222a500c"
      },
      "source": [
        "deg = (((delhi_std**2)/len(delhi)  + (punjab_std**2)/len(punjab)) ** 2) / ((((delhi_std**2)/len(delhi))**2)/(len(delhi)-1)  + (((punjab_std**2)/len(punjab))**2)/(len(punjab) - 1))\n",
        "deg"
      ],
      "execution_count": null,
      "outputs": [
        {
          "output_type": "execute_result",
          "data": {
            "text/plain": [
              "28.82681788840003"
            ]
          },
          "metadata": {},
          "execution_count": 60
        }
      ]
    },
    {
      "cell_type": "code",
      "metadata": {
        "id": "jqbhz0u9qa3T",
        "colab": {
          "base_uri": "https://localhost:8080/"
        },
        "outputId": "2ab4f1ed-1f7d-402e-92da-ee3c2f21c02c"
      },
      "source": [
        "z = (mean_diff - h0_mean) / sigma_diff\n",
        "z"
      ],
      "execution_count": null,
      "outputs": [
        {
          "output_type": "execute_result",
          "data": {
            "text/plain": [
              "0.12046417051307332"
            ]
          },
          "metadata": {},
          "execution_count": 61
        }
      ]
    },
    {
      "cell_type": "code",
      "metadata": {
        "id": "6duurtdVqa3T",
        "colab": {
          "base_uri": "https://localhost:8080/"
        },
        "outputId": "c8d99651-1a38-4714-e023-c100a5f7af95"
      },
      "source": [
        "p = (1-stats.t.cdf(z, deg))*2\n",
        "p"
      ],
      "execution_count": null,
      "outputs": [
        {
          "output_type": "execute_result",
          "data": {
            "text/plain": [
              "0.904951180450877"
            ]
          },
          "metadata": {},
          "execution_count": 62
        }
      ]
    },
    {
      "cell_type": "markdown",
      "metadata": {
        "id": "gAhgyujaqa3T"
      },
      "source": [
        "The value of p obtained here is much higher than the significance level $\\alpha$. Therefore, we cannot reject the null hypothesis. It stands.\n",
        "\n",
        "**The true mean literacy rate for Punjab and Delhi are the same.**"
      ]
    },
    {
      "cell_type": "markdown",
      "source": [
        "**Using Python library**"
      ],
      "metadata": {
        "id": "ZYbYFDoAaLnF"
      }
    },
    {
      "cell_type": "code",
      "source": [
        "from statsmodels.stats import weightstats as stests\n",
        "# z, pval = stests.ztest()"
      ],
      "metadata": {
        "id": "24QwbBmRzj3w"
      },
      "execution_count": null,
      "outputs": []
    },
    {
      "cell_type": "code",
      "source": [
        "stests.ztest(delhi, x2=punjab,  alternative='two-sided') "
      ],
      "metadata": {
        "id": "M5CuPO5h1mH-",
        "outputId": "4949e5d5-71f4-4627-bd63-e0b51cdb7a6b",
        "colab": {
          "base_uri": "https://localhost:8080/"
        }
      },
      "execution_count": null,
      "outputs": [
        {
          "output_type": "execute_result",
          "data": {
            "text/plain": [
              "(0.1198880354206678, 0.9045718424630748)"
            ]
          },
          "metadata": {},
          "execution_count": 74
        }
      ]
    },
    {
      "cell_type": "markdown",
      "source": [
        "p-value greater than the alpha value, we accept the null hypothesis."
      ],
      "metadata": {
        "id": "teIdTUYj2wHH"
      }
    }
  ]
}